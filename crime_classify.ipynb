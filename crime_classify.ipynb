{
 "cells": [
  {
   "cell_type": "code",
   "execution_count": 1,
   "metadata": {
    "collapsed": true
   },
   "outputs": [
    {
     "name": "stderr",
     "output_type": "stream",
     "text": [
      "[nltk_data] Error loading stopwords: <urlopen error [Errno 11004]\n",
      "[nltk_data]     getaddrinfo failed>\n"
     ]
    }
   ],
   "source": [
    "# -*- coding: utf-8 -*-\n",
    "# Auther : ZhangYiLong\n",
    "# Mail : 503302425@qq.com\n",
    "# Date : 2022/11/18 15:39\n",
    "# File : jsonDataProcessing.py\n",
    "#cankai https://blog.csdn.net/weixin_42608414/article/details/88100879\n",
    "# kaggle\n",
    "#\n",
    "%matplotlib inline\n",
    "\n",
    "from ast import literal_eval\n",
    "import pandas as pd\n",
    "import numpy as np\n",
    "import matplotlib\n",
    "import matplotlib.pyplot as plt\n",
    "from sklearn.model_selection import train_test_split\n",
    "import seaborn as sns\n",
    "from scipy import sparse as sp_sparse\n",
    "from sklearn.feature_extraction.text import TfidfVectorizer\n",
    "from sklearn.preprocessing import MultiLabelBinarizer\n",
    "from sklearn.naive_bayes import MultinomialNB\n",
    "from sklearn.multiclass import OneVsRestClassifier\n",
    "from sklearn.linear_model import LogisticRegression, RidgeClassifier\n",
    "from sklearn.svm import LinearSVC\n",
    "from sklearn.pipeline import Pipeline\n",
    "from sklearn.feature_extraction.text import CountVectorizer\n",
    "import nltk\n",
    "import re\n",
    "from nltk.corpus import stopwords\n",
    "nltk.download('stopwords')\n",
    "stop_words = set(stopwords.words('chinese'))"
   ]
  },
  {
   "cell_type": "code",
   "execution_count": 2,
   "outputs": [],
   "source": [
    "# 加载数据\n",
    "filepath = \"data/crime_classify.json\"\n",
    "df = pd.read_json(filepath,encoding='utf8',lines=True)\n"
   ],
   "metadata": {
    "collapsed": false
   }
  },
  {
   "cell_type": "code",
   "execution_count": 4,
   "outputs": [],
   "source": [
    "#划分为 7:3\n",
    "x_train, x_test, y_train, y_test = train_test_split(df['text'], df['label'],test_size=0.3,random_state=20)\n"
   ],
   "metadata": {
    "collapsed": false
   }
  },
  {
   "cell_type": "code",
   "execution_count": 25,
   "outputs": [],
   "source": [
    "df_train= pd.DataFrame()\n",
    "df_train['text']=x_train\n",
    "df_train['label']=y_train\n",
    "df_train.to_excel(\"data/crime_classify_train.json\",encoding='utf8')\n"
   ],
   "metadata": {
    "collapsed": false
   }
  },
  {
   "cell_type": "code",
   "execution_count": 33,
   "outputs": [
    {
     "ename": "ValueError",
     "evalue": "'lines' keyword only valid when 'orient' is records",
     "output_type": "error",
     "traceback": [
      "\u001B[1;31m---------------------------------------------------------------------------\u001B[0m",
      "\u001B[1;31mValueError\u001B[0m                                Traceback (most recent call last)",
      "Cell \u001B[1;32mIn [33], line 4\u001B[0m\n\u001B[0;32m      2\u001B[0m df_test[\u001B[38;5;124m'\u001B[39m\u001B[38;5;124mtext\u001B[39m\u001B[38;5;124m'\u001B[39m]\u001B[38;5;241m=\u001B[39mx_test\n\u001B[0;32m      3\u001B[0m df_test[\u001B[38;5;124m'\u001B[39m\u001B[38;5;124mlabel\u001B[39m\u001B[38;5;124m'\u001B[39m]\u001B[38;5;241m=\u001B[39my_test\n\u001B[1;32m----> 4\u001B[0m \u001B[43mdf_test\u001B[49m\u001B[38;5;241;43m.\u001B[39;49m\u001B[43mto_json\u001B[49m\u001B[43m(\u001B[49m\u001B[38;5;124;43m\"\u001B[39;49m\u001B[38;5;124;43mdata/crime_classify_test.json\u001B[39;49m\u001B[38;5;124;43m\"\u001B[39;49m\u001B[43m,\u001B[49m\u001B[43mlines\u001B[49m\u001B[38;5;241;43m=\u001B[39;49m\u001B[38;5;28;43;01mTrue\u001B[39;49;00m\u001B[43m)\u001B[49m\n",
      "File \u001B[1;32mG:\\proprocess\\venv\\lib\\site-packages\\pandas\\core\\generic.py:2621\u001B[0m, in \u001B[0;36mNDFrame.to_json\u001B[1;34m(self, path_or_buf, orient, date_format, double_precision, force_ascii, date_unit, default_handler, lines, compression, index, indent, storage_options)\u001B[0m\n\u001B[0;32m   2618\u001B[0m config\u001B[38;5;241m.\u001B[39mis_nonnegative_int(indent)\n\u001B[0;32m   2619\u001B[0m indent \u001B[38;5;241m=\u001B[39m indent \u001B[38;5;129;01mor\u001B[39;00m \u001B[38;5;241m0\u001B[39m\n\u001B[1;32m-> 2621\u001B[0m \u001B[38;5;28;01mreturn\u001B[39;00m \u001B[43mjson\u001B[49m\u001B[38;5;241;43m.\u001B[39;49m\u001B[43mto_json\u001B[49m\u001B[43m(\u001B[49m\n\u001B[0;32m   2622\u001B[0m \u001B[43m    \u001B[49m\u001B[43mpath_or_buf\u001B[49m\u001B[38;5;241;43m=\u001B[39;49m\u001B[43mpath_or_buf\u001B[49m\u001B[43m,\u001B[49m\n\u001B[0;32m   2623\u001B[0m \u001B[43m    \u001B[49m\u001B[43mobj\u001B[49m\u001B[38;5;241;43m=\u001B[39;49m\u001B[38;5;28;43mself\u001B[39;49m\u001B[43m,\u001B[49m\n\u001B[0;32m   2624\u001B[0m \u001B[43m    \u001B[49m\u001B[43morient\u001B[49m\u001B[38;5;241;43m=\u001B[39;49m\u001B[43morient\u001B[49m\u001B[43m,\u001B[49m\n\u001B[0;32m   2625\u001B[0m \u001B[43m    \u001B[49m\u001B[43mdate_format\u001B[49m\u001B[38;5;241;43m=\u001B[39;49m\u001B[43mdate_format\u001B[49m\u001B[43m,\u001B[49m\n\u001B[0;32m   2626\u001B[0m \u001B[43m    \u001B[49m\u001B[43mdouble_precision\u001B[49m\u001B[38;5;241;43m=\u001B[39;49m\u001B[43mdouble_precision\u001B[49m\u001B[43m,\u001B[49m\n\u001B[0;32m   2627\u001B[0m \u001B[43m    \u001B[49m\u001B[43mforce_ascii\u001B[49m\u001B[38;5;241;43m=\u001B[39;49m\u001B[43mforce_ascii\u001B[49m\u001B[43m,\u001B[49m\n\u001B[0;32m   2628\u001B[0m \u001B[43m    \u001B[49m\u001B[43mdate_unit\u001B[49m\u001B[38;5;241;43m=\u001B[39;49m\u001B[43mdate_unit\u001B[49m\u001B[43m,\u001B[49m\n\u001B[0;32m   2629\u001B[0m \u001B[43m    \u001B[49m\u001B[43mdefault_handler\u001B[49m\u001B[38;5;241;43m=\u001B[39;49m\u001B[43mdefault_handler\u001B[49m\u001B[43m,\u001B[49m\n\u001B[0;32m   2630\u001B[0m \u001B[43m    \u001B[49m\u001B[43mlines\u001B[49m\u001B[38;5;241;43m=\u001B[39;49m\u001B[43mlines\u001B[49m\u001B[43m,\u001B[49m\n\u001B[0;32m   2631\u001B[0m \u001B[43m    \u001B[49m\u001B[43mcompression\u001B[49m\u001B[38;5;241;43m=\u001B[39;49m\u001B[43mcompression\u001B[49m\u001B[43m,\u001B[49m\n\u001B[0;32m   2632\u001B[0m \u001B[43m    \u001B[49m\u001B[43mindex\u001B[49m\u001B[38;5;241;43m=\u001B[39;49m\u001B[43mindex\u001B[49m\u001B[43m,\u001B[49m\n\u001B[0;32m   2633\u001B[0m \u001B[43m    \u001B[49m\u001B[43mindent\u001B[49m\u001B[38;5;241;43m=\u001B[39;49m\u001B[43mindent\u001B[49m\u001B[43m,\u001B[49m\n\u001B[0;32m   2634\u001B[0m \u001B[43m    \u001B[49m\u001B[43mstorage_options\u001B[49m\u001B[38;5;241;43m=\u001B[39;49m\u001B[43mstorage_options\u001B[49m\u001B[43m,\u001B[49m\n\u001B[0;32m   2635\u001B[0m \u001B[43m\u001B[49m\u001B[43m)\u001B[49m\n",
      "File \u001B[1;32mG:\\proprocess\\venv\\lib\\site-packages\\pandas\\io\\json\\_json.py:95\u001B[0m, in \u001B[0;36mto_json\u001B[1;34m(path_or_buf, obj, orient, date_format, double_precision, force_ascii, date_unit, default_handler, lines, compression, index, indent, storage_options)\u001B[0m\n\u001B[0;32m     90\u001B[0m     \u001B[38;5;28;01mraise\u001B[39;00m \u001B[38;5;167;01mValueError\u001B[39;00m(\n\u001B[0;32m     91\u001B[0m         \u001B[38;5;124m\"\u001B[39m\u001B[38;5;124m'\u001B[39m\u001B[38;5;124mindex=False\u001B[39m\u001B[38;5;124m'\u001B[39m\u001B[38;5;124m is only valid when \u001B[39m\u001B[38;5;124m'\u001B[39m\u001B[38;5;124morient\u001B[39m\u001B[38;5;124m'\u001B[39m\u001B[38;5;124m is \u001B[39m\u001B[38;5;124m'\u001B[39m\u001B[38;5;124msplit\u001B[39m\u001B[38;5;124m'\u001B[39m\u001B[38;5;124m or \u001B[39m\u001B[38;5;124m'\u001B[39m\u001B[38;5;124mtable\u001B[39m\u001B[38;5;124m'\u001B[39m\u001B[38;5;124m\"\u001B[39m\n\u001B[0;32m     92\u001B[0m     )\n\u001B[0;32m     94\u001B[0m \u001B[38;5;28;01mif\u001B[39;00m lines \u001B[38;5;129;01mand\u001B[39;00m orient \u001B[38;5;241m!=\u001B[39m \u001B[38;5;124m\"\u001B[39m\u001B[38;5;124mrecords\u001B[39m\u001B[38;5;124m\"\u001B[39m:\n\u001B[1;32m---> 95\u001B[0m     \u001B[38;5;28;01mraise\u001B[39;00m \u001B[38;5;167;01mValueError\u001B[39;00m(\u001B[38;5;124m\"\u001B[39m\u001B[38;5;124m'\u001B[39m\u001B[38;5;124mlines\u001B[39m\u001B[38;5;124m'\u001B[39m\u001B[38;5;124m keyword only valid when \u001B[39m\u001B[38;5;124m'\u001B[39m\u001B[38;5;124morient\u001B[39m\u001B[38;5;124m'\u001B[39m\u001B[38;5;124m is records\u001B[39m\u001B[38;5;124m\"\u001B[39m)\n\u001B[0;32m     97\u001B[0m \u001B[38;5;28;01mif\u001B[39;00m orient \u001B[38;5;241m==\u001B[39m \u001B[38;5;124m\"\u001B[39m\u001B[38;5;124mtable\u001B[39m\u001B[38;5;124m\"\u001B[39m \u001B[38;5;129;01mand\u001B[39;00m \u001B[38;5;28misinstance\u001B[39m(obj, Series):\n\u001B[0;32m     98\u001B[0m     obj \u001B[38;5;241m=\u001B[39m obj\u001B[38;5;241m.\u001B[39mto_frame(name\u001B[38;5;241m=\u001B[39mobj\u001B[38;5;241m.\u001B[39mname \u001B[38;5;129;01mor\u001B[39;00m \u001B[38;5;124m\"\u001B[39m\u001B[38;5;124mvalues\u001B[39m\u001B[38;5;124m\"\u001B[39m)\n",
      "\u001B[1;31mValueError\u001B[0m: 'lines' keyword only valid when 'orient' is records"
     ]
    }
   ],
   "source": [
    "df_test= pd.DataFrame()\n",
    "df_test['text']=x_test\n",
    "df_test['label']=y_test\n",
    "df_test.to_excel(\"data/crime_classify_test.json\",encoding='utf8')\n"
   ],
   "metadata": {
    "collapsed": false
   }
  },
  {
   "cell_type": "code",
   "execution_count": 29,
   "outputs": [
    {
     "data": {
      "text/plain": "                                                     text  \\\n74968   经审理查明，原判认定上诉人李某犯××罪的事实清楚，据以定案的证人叶某、庄某、陈某、李某1、黄...   \n21520   公诉机关指控，2017年3月，被告人刘某利用微信建立多个名为“福利影院拉五男免踢”的微信群，...   \n103016  成都市金牛区人民检察院指控，2011年，被告人黄某某任成都市金牛区社会保险事业管理局（下文简...   \n122442  经审理查明，2016年2月份，网上逃犯王某找到被告人张某某让其帮忙租一套住房，张某某以自己的...   \n108483  亳州市谯城区人民检察院指控：2012年1月3日9时20分，亳州市公安局立德派出所配合谯城区立...   \n...                                                   ...   \n124308  安徽省安庆市大观区人民检察院指控，2011年2月底，被告人江某甲经网友章某某介绍加入沈阳绿生...   \n31962   长沙市雨花区人民检察院指控，1、2017年2月7日23时许，被告人杨2某以400元的价格贩卖...   \n23775   宜阳县人民检察院指控：2016年9月6日19时20分许，被告人张某驾驶豫Ａ×××××号小型轿...   \n37135   经审理查明：1、2014年7月2日，被告人黄某明知王某没有毒品来源，由王某出毒资，居间介绍帮...   \n92634   腾冲市人民检察院指控，2014年11月6日22时许，被告人张某某在腾冲市滇滩镇自己家中卧室内...   \n\n                            label  \n74968               [拒不执行[判决、裁定]]  \n21520    [[制造、贩卖、传播]淫秽物品, 传播淫秽物品]  \n103016                   [受贿, 行贿]  \n122442                  [[窝藏、包庇]]  \n108483                       [爆炸]  \n...                           ...  \n124308              [[组织、领导]传销活动]  \n31962           [[走私、贩卖、运输、制造]毒品]  \n23775                      [交通肇事]  \n37135   [[走私、贩卖、运输、制造]毒品, 容留他人吸毒]  \n92634                        [放火]  \n\n[108214 rows x 2 columns]",
      "text/html": "<div>\n<style scoped>\n    .dataframe tbody tr th:only-of-type {\n        vertical-align: middle;\n    }\n\n    .dataframe tbody tr th {\n        vertical-align: top;\n    }\n\n    .dataframe thead th {\n        text-align: right;\n    }\n</style>\n<table border=\"1\" class=\"dataframe\">\n  <thead>\n    <tr style=\"text-align: right;\">\n      <th></th>\n      <th>text</th>\n      <th>label</th>\n    </tr>\n  </thead>\n  <tbody>\n    <tr>\n      <th>74968</th>\n      <td>经审理查明，原判认定上诉人李某犯××罪的事实清楚，据以定案的证人叶某、庄某、陈某、李某1、黄...</td>\n      <td>[拒不执行[判决、裁定]]</td>\n    </tr>\n    <tr>\n      <th>21520</th>\n      <td>公诉机关指控，2017年3月，被告人刘某利用微信建立多个名为“福利影院拉五男免踢”的微信群，...</td>\n      <td>[[制造、贩卖、传播]淫秽物品, 传播淫秽物品]</td>\n    </tr>\n    <tr>\n      <th>103016</th>\n      <td>成都市金牛区人民检察院指控，2011年，被告人黄某某任成都市金牛区社会保险事业管理局（下文简...</td>\n      <td>[受贿, 行贿]</td>\n    </tr>\n    <tr>\n      <th>122442</th>\n      <td>经审理查明，2016年2月份，网上逃犯王某找到被告人张某某让其帮忙租一套住房，张某某以自己的...</td>\n      <td>[[窝藏、包庇]]</td>\n    </tr>\n    <tr>\n      <th>108483</th>\n      <td>亳州市谯城区人民检察院指控：2012年1月3日9时20分，亳州市公安局立德派出所配合谯城区立...</td>\n      <td>[爆炸]</td>\n    </tr>\n    <tr>\n      <th>...</th>\n      <td>...</td>\n      <td>...</td>\n    </tr>\n    <tr>\n      <th>124308</th>\n      <td>安徽省安庆市大观区人民检察院指控，2011年2月底，被告人江某甲经网友章某某介绍加入沈阳绿生...</td>\n      <td>[[组织、领导]传销活动]</td>\n    </tr>\n    <tr>\n      <th>31962</th>\n      <td>长沙市雨花区人民检察院指控，1、2017年2月7日23时许，被告人杨2某以400元的价格贩卖...</td>\n      <td>[[走私、贩卖、运输、制造]毒品]</td>\n    </tr>\n    <tr>\n      <th>23775</th>\n      <td>宜阳县人民检察院指控：2016年9月6日19时20分许，被告人张某驾驶豫Ａ×××××号小型轿...</td>\n      <td>[交通肇事]</td>\n    </tr>\n    <tr>\n      <th>37135</th>\n      <td>经审理查明：1、2014年7月2日，被告人黄某明知王某没有毒品来源，由王某出毒资，居间介绍帮...</td>\n      <td>[[走私、贩卖、运输、制造]毒品, 容留他人吸毒]</td>\n    </tr>\n    <tr>\n      <th>92634</th>\n      <td>腾冲市人民检察院指控，2014年11月6日22时许，被告人张某某在腾冲市滇滩镇自己家中卧室内...</td>\n      <td>[放火]</td>\n    </tr>\n  </tbody>\n</table>\n<p>108214 rows × 2 columns</p>\n</div>"
     },
     "execution_count": 29,
     "metadata": {},
     "output_type": "execute_result"
    }
   ],
   "source": [
    "out = {'labels': df.index.tolist(), 'datasets': []}\n",
    "for col in df.columns:\n",
    "    out['datasets'].append({\n",
    "        'label': col,\n",
    "        'data': df[col].values.tolist()\n",
    "    })"
   ],
   "metadata": {
    "collapsed": false
   }
  },
  {
   "cell_type": "code",
   "execution_count": null,
   "outputs": [],
   "source": [],
   "metadata": {
    "collapsed": false
   }
  },
  {
   "cell_type": "code",
   "execution_count": 21,
   "outputs": [
    {
     "data": {
      "text/plain": "                                                     text  \\\n0       昌宁县人民检察院指控，2014年4月19日下午16时许，被告人段某驾拖车经过鸡飞乡澡塘街子，...   \n1       公诉机关指控,2015年11月10日晚9时许，被告人李某的妹妹李某某与被害人华某某在桦川县悦...   \n2       贵州省平坝县人民检察院指控：2014年4月9日下午，被告人王某丁与其堂哥王4某（另案处理）假...   \n3       经审理查明：2014年5月6日14时许，被告人叶某某驾车途径赤壁市赵李桥镇胜利街涵洞时，被在...   \n4       安阳县人民检察院指控：2014年4月27日上午11时许，宋某甲在安阳县吕村镇翟奇务村被告人梁...   \n...                                                   ...   \n154587  经审理查明，2013年9月，被告人黄某从一陌生人处购得猎捕工具“电猫”一台，随即于每年的农历...   \n154588  歙县人民检察院指控：被告人叶某违反狩猎法规，在禁猎期内使用禁用的方法，猎捕安徽省二级保护的野...   \n154589  永平县人民检察院指控：2017年4月10日，被告人江天某携带单管猎枪、录音机等工具到永平县杉...   \n154590  神农架林区人民检察院指控：2015年11月中旬至12月，被告人朱某在神农架林区红坪镇红举村“...   \n154591  经审理查明：2014年8月25日晚19时至次日凌晨3时许，被告人黄某甲到江苏省沭阳县扎下镇明...   \n\n                                           label  \n0                                         [故意伤害]  \n1                                         [故意伤害]  \n2                                         [故意伤害]  \n3                                         [故意伤害]  \n4                                         [故意伤害]  \n...                                          ...  \n154587                                    [非法狩猎]  \n154588                                    [非法狩猎]  \n154589  [非法[持有、私藏][枪支、弹药], 非法[猎捕、杀害][珍贵、濒危]野生动物]  \n154590                    [非法[猎捕、杀害][珍贵、濒危]野生动物]  \n154591                                    [非法狩猎]  \n\n[154592 rows x 2 columns]",
      "text/html": "<div>\n<style scoped>\n    .dataframe tbody tr th:only-of-type {\n        vertical-align: middle;\n    }\n\n    .dataframe tbody tr th {\n        vertical-align: top;\n    }\n\n    .dataframe thead th {\n        text-align: right;\n    }\n</style>\n<table border=\"1\" class=\"dataframe\">\n  <thead>\n    <tr style=\"text-align: right;\">\n      <th></th>\n      <th>text</th>\n      <th>label</th>\n    </tr>\n  </thead>\n  <tbody>\n    <tr>\n      <th>0</th>\n      <td>昌宁县人民检察院指控，2014年4月19日下午16时许，被告人段某驾拖车经过鸡飞乡澡塘街子，...</td>\n      <td>[故意伤害]</td>\n    </tr>\n    <tr>\n      <th>1</th>\n      <td>公诉机关指控,2015年11月10日晚9时许，被告人李某的妹妹李某某与被害人华某某在桦川县悦...</td>\n      <td>[故意伤害]</td>\n    </tr>\n    <tr>\n      <th>2</th>\n      <td>贵州省平坝县人民检察院指控：2014年4月9日下午，被告人王某丁与其堂哥王4某（另案处理）假...</td>\n      <td>[故意伤害]</td>\n    </tr>\n    <tr>\n      <th>3</th>\n      <td>经审理查明：2014年5月6日14时许，被告人叶某某驾车途径赤壁市赵李桥镇胜利街涵洞时，被在...</td>\n      <td>[故意伤害]</td>\n    </tr>\n    <tr>\n      <th>4</th>\n      <td>安阳县人民检察院指控：2014年4月27日上午11时许，宋某甲在安阳县吕村镇翟奇务村被告人梁...</td>\n      <td>[故意伤害]</td>\n    </tr>\n    <tr>\n      <th>...</th>\n      <td>...</td>\n      <td>...</td>\n    </tr>\n    <tr>\n      <th>154587</th>\n      <td>经审理查明，2013年9月，被告人黄某从一陌生人处购得猎捕工具“电猫”一台，随即于每年的农历...</td>\n      <td>[非法狩猎]</td>\n    </tr>\n    <tr>\n      <th>154588</th>\n      <td>歙县人民检察院指控：被告人叶某违反狩猎法规，在禁猎期内使用禁用的方法，猎捕安徽省二级保护的野...</td>\n      <td>[非法狩猎]</td>\n    </tr>\n    <tr>\n      <th>154589</th>\n      <td>永平县人民检察院指控：2017年4月10日，被告人江天某携带单管猎枪、录音机等工具到永平县杉...</td>\n      <td>[非法[持有、私藏][枪支、弹药], 非法[猎捕、杀害][珍贵、濒危]野生动物]</td>\n    </tr>\n    <tr>\n      <th>154590</th>\n      <td>神农架林区人民检察院指控：2015年11月中旬至12月，被告人朱某在神农架林区红坪镇红举村“...</td>\n      <td>[非法[猎捕、杀害][珍贵、濒危]野生动物]</td>\n    </tr>\n    <tr>\n      <th>154591</th>\n      <td>经审理查明：2014年8月25日晚19时至次日凌晨3时许，被告人黄某甲到江苏省沭阳县扎下镇明...</td>\n      <td>[非法狩猎]</td>\n    </tr>\n  </tbody>\n</table>\n<p>154592 rows × 2 columns</p>\n</div>"
     },
     "execution_count": 21,
     "metadata": {},
     "output_type": "execute_result"
    }
   ],
   "source": [
    "df[list[array]]"
   ],
   "metadata": {
    "collapsed": false
   }
  },
  {
   "cell_type": "code",
   "execution_count": null,
   "outputs": [],
   "source": [],
   "metadata": {
    "collapsed": false
   }
  },
  {
   "cell_type": "code",
   "execution_count": 10,
   "outputs": [
    {
     "name": "stdout",
     "output_type": "stream",
     "text": [
      "标签总数: 202\n"
     ]
    },
    {
     "data": {
      "text/plain": "                 label  count\n1                   盗窃  10051\n13     [走私、贩卖、运输、制造]毒品   8872\n0                 故意伤害   6377\n14                  抢劫   5020\n22                  诈骗   3536\n37                  受贿   3496\n5                 寻衅滋事   3290\n2                 危险驾驶   2758\n26  [组织、强迫、引诱、容留、介绍]卖淫   2647\n32      [制造、贩卖、传播]淫秽物品   2617",
      "text/html": "<div>\n<style scoped>\n    .dataframe tbody tr th:only-of-type {\n        vertical-align: middle;\n    }\n\n    .dataframe tbody tr th {\n        vertical-align: top;\n    }\n\n    .dataframe thead th {\n        text-align: right;\n    }\n</style>\n<table border=\"1\" class=\"dataframe\">\n  <thead>\n    <tr style=\"text-align: right;\">\n      <th></th>\n      <th>label</th>\n      <th>count</th>\n    </tr>\n  </thead>\n  <tbody>\n    <tr>\n      <th>1</th>\n      <td>盗窃</td>\n      <td>10051</td>\n    </tr>\n    <tr>\n      <th>13</th>\n      <td>[走私、贩卖、运输、制造]毒品</td>\n      <td>8872</td>\n    </tr>\n    <tr>\n      <th>0</th>\n      <td>故意伤害</td>\n      <td>6377</td>\n    </tr>\n    <tr>\n      <th>14</th>\n      <td>抢劫</td>\n      <td>5020</td>\n    </tr>\n    <tr>\n      <th>22</th>\n      <td>诈骗</td>\n      <td>3536</td>\n    </tr>\n    <tr>\n      <th>37</th>\n      <td>受贿</td>\n      <td>3496</td>\n    </tr>\n    <tr>\n      <th>5</th>\n      <td>寻衅滋事</td>\n      <td>3290</td>\n    </tr>\n    <tr>\n      <th>2</th>\n      <td>危险驾驶</td>\n      <td>2758</td>\n    </tr>\n    <tr>\n      <th>26</th>\n      <td>[组织、强迫、引诱、容留、介绍]卖淫</td>\n      <td>2647</td>\n    </tr>\n    <tr>\n      <th>32</th>\n      <td>[制造、贩卖、传播]淫秽物品</td>\n      <td>2617</td>\n    </tr>\n  </tbody>\n</table>\n</div>"
     },
     "execution_count": 10,
     "metadata": {},
     "output_type": "execute_result"
    }
   ],
   "source": [
    "\n",
    "tags = df['label'].values\n",
    "tag_dic={}\n",
    "for tag_list in tags:\n",
    "    for tag in tag_list:\n",
    "        if tag not in tag_dic:\n",
    "            tag_dic[tag]=1\n",
    "        else:\n",
    "             tag_dic[tag]+=1\n",
    "df2 = pd.DataFrame(list(tag_dic.items()), columns=['label', 'count']).sort_values(by = 'count',axis = 0,ascending = False)\n",
    "\n",
    "print('标签总数:',len(df2))\n",
    "df2.head(10)\n"
   ],
   "metadata": {
    "collapsed": false
   }
  },
  {
   "cell_type": "code",
   "execution_count": 5,
   "outputs": [
    {
     "name": "stderr",
     "output_type": "stream",
     "text": [
      "G:\\proprocess\\venv\\lib\\site-packages\\IPython\\core\\pylabtools.py:151: UserWarning: Glyph 30423 (\\N{CJK UNIFIED IDEOGRAPH-76D7}) missing from current font.\n",
      "  fig.canvas.print_figure(bytes_io, **kw)\n",
      "G:\\proprocess\\venv\\lib\\site-packages\\IPython\\core\\pylabtools.py:151: UserWarning: Glyph 31363 (\\N{CJK UNIFIED IDEOGRAPH-7A83}) missing from current font.\n",
      "  fig.canvas.print_figure(bytes_io, **kw)\n",
      "G:\\proprocess\\venv\\lib\\site-packages\\IPython\\core\\pylabtools.py:151: UserWarning: Glyph 36208 (\\N{CJK UNIFIED IDEOGRAPH-8D70}) missing from current font.\n",
      "  fig.canvas.print_figure(bytes_io, **kw)\n",
      "G:\\proprocess\\venv\\lib\\site-packages\\IPython\\core\\pylabtools.py:151: UserWarning: Glyph 31169 (\\N{CJK UNIFIED IDEOGRAPH-79C1}) missing from current font.\n",
      "  fig.canvas.print_figure(bytes_io, **kw)\n",
      "G:\\proprocess\\venv\\lib\\site-packages\\IPython\\core\\pylabtools.py:151: UserWarning: Glyph 12289 (\\N{IDEOGRAPHIC COMMA}) missing from current font.\n",
      "  fig.canvas.print_figure(bytes_io, **kw)\n",
      "G:\\proprocess\\venv\\lib\\site-packages\\IPython\\core\\pylabtools.py:151: UserWarning: Glyph 36137 (\\N{CJK UNIFIED IDEOGRAPH-8D29}) missing from current font.\n",
      "  fig.canvas.print_figure(bytes_io, **kw)\n",
      "G:\\proprocess\\venv\\lib\\site-packages\\IPython\\core\\pylabtools.py:151: UserWarning: Glyph 21334 (\\N{CJK UNIFIED IDEOGRAPH-5356}) missing from current font.\n",
      "  fig.canvas.print_figure(bytes_io, **kw)\n",
      "G:\\proprocess\\venv\\lib\\site-packages\\IPython\\core\\pylabtools.py:151: UserWarning: Glyph 36816 (\\N{CJK UNIFIED IDEOGRAPH-8FD0}) missing from current font.\n",
      "  fig.canvas.print_figure(bytes_io, **kw)\n",
      "G:\\proprocess\\venv\\lib\\site-packages\\IPython\\core\\pylabtools.py:151: UserWarning: Glyph 36755 (\\N{CJK UNIFIED IDEOGRAPH-8F93}) missing from current font.\n",
      "  fig.canvas.print_figure(bytes_io, **kw)\n",
      "G:\\proprocess\\venv\\lib\\site-packages\\IPython\\core\\pylabtools.py:151: UserWarning: Glyph 21046 (\\N{CJK UNIFIED IDEOGRAPH-5236}) missing from current font.\n",
      "  fig.canvas.print_figure(bytes_io, **kw)\n",
      "G:\\proprocess\\venv\\lib\\site-packages\\IPython\\core\\pylabtools.py:151: UserWarning: Glyph 36896 (\\N{CJK UNIFIED IDEOGRAPH-9020}) missing from current font.\n",
      "  fig.canvas.print_figure(bytes_io, **kw)\n",
      "G:\\proprocess\\venv\\lib\\site-packages\\IPython\\core\\pylabtools.py:151: UserWarning: Glyph 27602 (\\N{CJK UNIFIED IDEOGRAPH-6BD2}) missing from current font.\n",
      "  fig.canvas.print_figure(bytes_io, **kw)\n",
      "G:\\proprocess\\venv\\lib\\site-packages\\IPython\\core\\pylabtools.py:151: UserWarning: Glyph 21697 (\\N{CJK UNIFIED IDEOGRAPH-54C1}) missing from current font.\n",
      "  fig.canvas.print_figure(bytes_io, **kw)\n",
      "G:\\proprocess\\venv\\lib\\site-packages\\IPython\\core\\pylabtools.py:151: UserWarning: Glyph 25925 (\\N{CJK UNIFIED IDEOGRAPH-6545}) missing from current font.\n",
      "  fig.canvas.print_figure(bytes_io, **kw)\n",
      "G:\\proprocess\\venv\\lib\\site-packages\\IPython\\core\\pylabtools.py:151: UserWarning: Glyph 24847 (\\N{CJK UNIFIED IDEOGRAPH-610F}) missing from current font.\n",
      "  fig.canvas.print_figure(bytes_io, **kw)\n",
      "G:\\proprocess\\venv\\lib\\site-packages\\IPython\\core\\pylabtools.py:151: UserWarning: Glyph 20260 (\\N{CJK UNIFIED IDEOGRAPH-4F24}) missing from current font.\n",
      "  fig.canvas.print_figure(bytes_io, **kw)\n",
      "G:\\proprocess\\venv\\lib\\site-packages\\IPython\\core\\pylabtools.py:151: UserWarning: Glyph 23475 (\\N{CJK UNIFIED IDEOGRAPH-5BB3}) missing from current font.\n",
      "  fig.canvas.print_figure(bytes_io, **kw)\n",
      "G:\\proprocess\\venv\\lib\\site-packages\\IPython\\core\\pylabtools.py:151: UserWarning: Glyph 25250 (\\N{CJK UNIFIED IDEOGRAPH-62A2}) missing from current font.\n",
      "  fig.canvas.print_figure(bytes_io, **kw)\n",
      "G:\\proprocess\\venv\\lib\\site-packages\\IPython\\core\\pylabtools.py:151: UserWarning: Glyph 21163 (\\N{CJK UNIFIED IDEOGRAPH-52AB}) missing from current font.\n",
      "  fig.canvas.print_figure(bytes_io, **kw)\n",
      "G:\\proprocess\\venv\\lib\\site-packages\\IPython\\core\\pylabtools.py:151: UserWarning: Glyph 35784 (\\N{CJK UNIFIED IDEOGRAPH-8BC8}) missing from current font.\n",
      "  fig.canvas.print_figure(bytes_io, **kw)\n",
      "G:\\proprocess\\venv\\lib\\site-packages\\IPython\\core\\pylabtools.py:151: UserWarning: Glyph 39575 (\\N{CJK UNIFIED IDEOGRAPH-9A97}) missing from current font.\n",
      "  fig.canvas.print_figure(bytes_io, **kw)\n",
      "G:\\proprocess\\venv\\lib\\site-packages\\IPython\\core\\pylabtools.py:151: UserWarning: Glyph 21463 (\\N{CJK UNIFIED IDEOGRAPH-53D7}) missing from current font.\n",
      "  fig.canvas.print_figure(bytes_io, **kw)\n",
      "G:\\proprocess\\venv\\lib\\site-packages\\IPython\\core\\pylabtools.py:151: UserWarning: Glyph 36159 (\\N{CJK UNIFIED IDEOGRAPH-8D3F}) missing from current font.\n",
      "  fig.canvas.print_figure(bytes_io, **kw)\n",
      "G:\\proprocess\\venv\\lib\\site-packages\\IPython\\core\\pylabtools.py:151: UserWarning: Glyph 23547 (\\N{CJK UNIFIED IDEOGRAPH-5BFB}) missing from current font.\n",
      "  fig.canvas.print_figure(bytes_io, **kw)\n",
      "G:\\proprocess\\venv\\lib\\site-packages\\IPython\\core\\pylabtools.py:151: UserWarning: Glyph 34885 (\\N{CJK UNIFIED IDEOGRAPH-8845}) missing from current font.\n",
      "  fig.canvas.print_figure(bytes_io, **kw)\n",
      "G:\\proprocess\\venv\\lib\\site-packages\\IPython\\core\\pylabtools.py:151: UserWarning: Glyph 28363 (\\N{CJK UNIFIED IDEOGRAPH-6ECB}) missing from current font.\n",
      "  fig.canvas.print_figure(bytes_io, **kw)\n",
      "G:\\proprocess\\venv\\lib\\site-packages\\IPython\\core\\pylabtools.py:151: UserWarning: Glyph 20107 (\\N{CJK UNIFIED IDEOGRAPH-4E8B}) missing from current font.\n",
      "  fig.canvas.print_figure(bytes_io, **kw)\n",
      "G:\\proprocess\\venv\\lib\\site-packages\\IPython\\core\\pylabtools.py:151: UserWarning: Glyph 21361 (\\N{CJK UNIFIED IDEOGRAPH-5371}) missing from current font.\n",
      "  fig.canvas.print_figure(bytes_io, **kw)\n",
      "G:\\proprocess\\venv\\lib\\site-packages\\IPython\\core\\pylabtools.py:151: UserWarning: Glyph 38505 (\\N{CJK UNIFIED IDEOGRAPH-9669}) missing from current font.\n",
      "  fig.canvas.print_figure(bytes_io, **kw)\n",
      "G:\\proprocess\\venv\\lib\\site-packages\\IPython\\core\\pylabtools.py:151: UserWarning: Glyph 39550 (\\N{CJK UNIFIED IDEOGRAPH-9A7E}) missing from current font.\n",
      "  fig.canvas.print_figure(bytes_io, **kw)\n",
      "G:\\proprocess\\venv\\lib\\site-packages\\IPython\\core\\pylabtools.py:151: UserWarning: Glyph 39542 (\\N{CJK UNIFIED IDEOGRAPH-9A76}) missing from current font.\n",
      "  fig.canvas.print_figure(bytes_io, **kw)\n",
      "G:\\proprocess\\venv\\lib\\site-packages\\IPython\\core\\pylabtools.py:151: UserWarning: Glyph 32452 (\\N{CJK UNIFIED IDEOGRAPH-7EC4}) missing from current font.\n",
      "  fig.canvas.print_figure(bytes_io, **kw)\n",
      "G:\\proprocess\\venv\\lib\\site-packages\\IPython\\core\\pylabtools.py:151: UserWarning: Glyph 32455 (\\N{CJK UNIFIED IDEOGRAPH-7EC7}) missing from current font.\n",
      "  fig.canvas.print_figure(bytes_io, **kw)\n",
      "G:\\proprocess\\venv\\lib\\site-packages\\IPython\\core\\pylabtools.py:151: UserWarning: Glyph 24378 (\\N{CJK UNIFIED IDEOGRAPH-5F3A}) missing from current font.\n",
      "  fig.canvas.print_figure(bytes_io, **kw)\n",
      "G:\\proprocess\\venv\\lib\\site-packages\\IPython\\core\\pylabtools.py:151: UserWarning: Glyph 36843 (\\N{CJK UNIFIED IDEOGRAPH-8FEB}) missing from current font.\n",
      "  fig.canvas.print_figure(bytes_io, **kw)\n",
      "G:\\proprocess\\venv\\lib\\site-packages\\IPython\\core\\pylabtools.py:151: UserWarning: Glyph 24341 (\\N{CJK UNIFIED IDEOGRAPH-5F15}) missing from current font.\n",
      "  fig.canvas.print_figure(bytes_io, **kw)\n",
      "G:\\proprocess\\venv\\lib\\site-packages\\IPython\\core\\pylabtools.py:151: UserWarning: Glyph 35825 (\\N{CJK UNIFIED IDEOGRAPH-8BF1}) missing from current font.\n",
      "  fig.canvas.print_figure(bytes_io, **kw)\n",
      "G:\\proprocess\\venv\\lib\\site-packages\\IPython\\core\\pylabtools.py:151: UserWarning: Glyph 23481 (\\N{CJK UNIFIED IDEOGRAPH-5BB9}) missing from current font.\n",
      "  fig.canvas.print_figure(bytes_io, **kw)\n",
      "G:\\proprocess\\venv\\lib\\site-packages\\IPython\\core\\pylabtools.py:151: UserWarning: Glyph 30041 (\\N{CJK UNIFIED IDEOGRAPH-7559}) missing from current font.\n",
      "  fig.canvas.print_figure(bytes_io, **kw)\n",
      "G:\\proprocess\\venv\\lib\\site-packages\\IPython\\core\\pylabtools.py:151: UserWarning: Glyph 20171 (\\N{CJK UNIFIED IDEOGRAPH-4ECB}) missing from current font.\n",
      "  fig.canvas.print_figure(bytes_io, **kw)\n",
      "G:\\proprocess\\venv\\lib\\site-packages\\IPython\\core\\pylabtools.py:151: UserWarning: Glyph 32461 (\\N{CJK UNIFIED IDEOGRAPH-7ECD}) missing from current font.\n",
      "  fig.canvas.print_figure(bytes_io, **kw)\n",
      "G:\\proprocess\\venv\\lib\\site-packages\\IPython\\core\\pylabtools.py:151: UserWarning: Glyph 28139 (\\N{CJK UNIFIED IDEOGRAPH-6DEB}) missing from current font.\n",
      "  fig.canvas.print_figure(bytes_io, **kw)\n",
      "G:\\proprocess\\venv\\lib\\site-packages\\IPython\\core\\pylabtools.py:151: UserWarning: Glyph 20256 (\\N{CJK UNIFIED IDEOGRAPH-4F20}) missing from current font.\n",
      "  fig.canvas.print_figure(bytes_io, **kw)\n",
      "G:\\proprocess\\venv\\lib\\site-packages\\IPython\\core\\pylabtools.py:151: UserWarning: Glyph 25773 (\\N{CJK UNIFIED IDEOGRAPH-64AD}) missing from current font.\n",
      "  fig.canvas.print_figure(bytes_io, **kw)\n",
      "G:\\proprocess\\venv\\lib\\site-packages\\IPython\\core\\pylabtools.py:151: UserWarning: Glyph 31229 (\\N{CJK UNIFIED IDEOGRAPH-79FD}) missing from current font.\n",
      "  fig.canvas.print_figure(bytes_io, **kw)\n",
      "G:\\proprocess\\venv\\lib\\site-packages\\IPython\\core\\pylabtools.py:151: UserWarning: Glyph 29289 (\\N{CJK UNIFIED IDEOGRAPH-7269}) missing from current font.\n",
      "  fig.canvas.print_figure(bytes_io, **kw)\n",
      "G:\\proprocess\\venv\\lib\\site-packages\\IPython\\core\\pylabtools.py:151: UserWarning: Glyph 26631 (\\N{CJK UNIFIED IDEOGRAPH-6807}) missing from current font.\n",
      "  fig.canvas.print_figure(bytes_io, **kw)\n",
      "G:\\proprocess\\venv\\lib\\site-packages\\IPython\\core\\pylabtools.py:151: UserWarning: Glyph 31614 (\\N{CJK UNIFIED IDEOGRAPH-7B7E}) missing from current font.\n",
      "  fig.canvas.print_figure(bytes_io, **kw)\n",
      "G:\\proprocess\\venv\\lib\\site-packages\\IPython\\core\\pylabtools.py:151: UserWarning: Glyph 20986 (\\N{CJK UNIFIED IDEOGRAPH-51FA}) missing from current font.\n",
      "  fig.canvas.print_figure(bytes_io, **kw)\n",
      "G:\\proprocess\\venv\\lib\\site-packages\\IPython\\core\\pylabtools.py:151: UserWarning: Glyph 29616 (\\N{CJK UNIFIED IDEOGRAPH-73B0}) missing from current font.\n",
      "  fig.canvas.print_figure(bytes_io, **kw)\n",
      "G:\\proprocess\\venv\\lib\\site-packages\\IPython\\core\\pylabtools.py:151: UserWarning: Glyph 27425 (\\N{CJK UNIFIED IDEOGRAPH-6B21}) missing from current font.\n",
      "  fig.canvas.print_figure(bytes_io, **kw)\n",
      "G:\\proprocess\\venv\\lib\\site-packages\\IPython\\core\\pylabtools.py:151: UserWarning: Glyph 25968 (\\N{CJK UNIFIED IDEOGRAPH-6570}) missing from current font.\n",
      "  fig.canvas.print_figure(bytes_io, **kw)\n",
      "G:\\proprocess\\venv\\lib\\site-packages\\IPython\\core\\pylabtools.py:151: UserWarning: Glyph 27599 (\\N{CJK UNIFIED IDEOGRAPH-6BCF}) missing from current font.\n",
      "  fig.canvas.print_figure(bytes_io, **kw)\n",
      "G:\\proprocess\\venv\\lib\\site-packages\\IPython\\core\\pylabtools.py:151: UserWarning: Glyph 20010 (\\N{CJK UNIFIED IDEOGRAPH-4E2A}) missing from current font.\n",
      "  fig.canvas.print_figure(bytes_io, **kw)\n",
      "G:\\proprocess\\venv\\lib\\site-packages\\IPython\\core\\pylabtools.py:151: UserWarning: Glyph 30340 (\\N{CJK UNIFIED IDEOGRAPH-7684}) missing from current font.\n",
      "  fig.canvas.print_figure(bytes_io, **kw)\n",
      "G:\\proprocess\\venv\\lib\\site-packages\\IPython\\core\\pylabtools.py:151: UserWarning: Glyph 20998 (\\N{CJK UNIFIED IDEOGRAPH-5206}) missing from current font.\n",
      "  fig.canvas.print_figure(bytes_io, **kw)\n",
      "G:\\proprocess\\venv\\lib\\site-packages\\IPython\\core\\pylabtools.py:151: UserWarning: Glyph 24067 (\\N{CJK UNIFIED IDEOGRAPH-5E03}) missing from current font.\n",
      "  fig.canvas.print_figure(bytes_io, **kw)\n"
     ]
    },
    {
     "data": {
      "text/plain": "<Figure size 1000x600 with 1 Axes>",
      "image/png": "[encoded data removed]"
     },
     "metadata": {},
     "output_type": "display_data"
    }
   ],
   "source": [
    "\n",
    "#前10个数量最多的标签分布\n",
    "df2[:10].plot(x='label', y='count', kind='bar', legend=False, grid=True, figsize=(10, 6),fontsize=18)\n",
    "plt.title(\"每个标签的分布\",fontsize=18)\n",
    "plt.ylabel('出现次数', fontsize=18)\n",
    "plt.xlabel('标签', fontsize=18)\n",
    "plt.show()"
   ],
   "metadata": {
    "collapsed": false
   }
  },
  {
   "cell_type": "markdown",
   "source": [
    "# 数据预处理\n",
    "数据预处理是在训练分类器模型之前的一个必要过程,对于像英语这样的文本,数据预处理一般包含下面几个步骤:\n",
    "\n",
    "将英文字母小写化处理,\n",
    "删除文本中所有的标点符号.\n",
    "删除文本中包含的停用词.\n",
    "提取词干(stemming),单词被简化为根形式,如cats-->cat,meeting-->meet,等\n",
    "词形还原(Lemmatization),第三人称的单词转换成第一人称单词,动词的过去式和将来式将转换成现在式。\n",
    "文本特征抽取(CountVectorizer,TfidfVectorizer)\n"
   ],
   "metadata": {
    "collapsed": false
   }
  },
  {
   "cell_type": "code",
   "execution_count": 6,
   "outputs": [],
   "source": [
    "#用空格替换各种符号\n",
    "REPLACE_BY_SPACE_RE = re.compile('[/(){}\\[\\]\\|@,;]')\n",
    "#删除各种符号\n",
    "BAD_SYMBOLS_RE = re.compile('[^0-9a-z #+_]')\n",
    "STOPWORDS = set(stopwords.words('chinese'))\n",
    "#定义数据清洗函数\n",
    "def text_prepare(text):\n",
    "    # text = text.lower() # 字母小写化\n",
    "    text = REPLACE_BY_SPACE_RE.sub(' ',text)\n",
    "    text = BAD_SYMBOLS_RE.sub('',text)\n",
    "    text = ' '.join([w for w in text.split() if w not in STOPWORDS]) # 删除停用词\n",
    "    return text\n",
    "\n",
    "def get_stopword():\n",
    "      s = set()\n",
    "      with open('data/stopwords.txt',encoding = 'UTF-8') as f:\n",
    "          for line in f:\n",
    "              s.add(line.strip())\n",
    "      return s\n",
    "def remove_stopword(words):\n",
    "      return [word for word in words if word not in STOPWORDS]"
   ],
   "metadata": {
    "collapsed": false
   }
  },
  {
   "cell_type": "code",
   "execution_count": 25,
   "outputs": [],
   "source": [
    "STOPWORDS = get_stopword()"
   ],
   "metadata": {
    "collapsed": false
   }
  },
  {
   "cell_type": "code",
   "execution_count": 26,
   "outputs": [
    {
     "data": {
      "text/plain": "{'',\n '屡次',\n '不大',\n '起见',\n '较之',\n '颇',\n '如前所述',\n '二话没说',\n '即是说',\n '偶尔',\n '不可开交',\n '截至',\n '｛',\n '不如',\n '即使',\n '为着',\n '相对而言',\n '一方面',\n '］',\n '按说',\n '可好',\n '由于',\n '＆',\n '啦',\n '看上去',\n '不得已',\n '不单',\n '凭借',\n '精光',\n '《',\n '哼唷',\n '并没有',\n '为',\n '能',\n '马上',\n '不拘',\n '们',\n '”',\n '倘若',\n '不外乎',\n '两者',\n '高低',\n '话说',\n '出',\n '咳',\n '呀',\n '开始',\n '遵照',\n '除去',\n '一切',\n '大体',\n '不管怎样',\n '借',\n '如果',\n '乘隙',\n '打从',\n '慢说',\n '人民',\n '个人',\n '将',\n '虽',\n '朝着',\n '只限',\n '不然的话',\n '乘',\n '倘或',\n '零',\n '俺们',\n '>',\n '出去',\n '累次',\n '兮',\n '呜呼',\n '成心',\n '怪',\n '往',\n '..',\n '除此以外',\n '二',\n '来不及',\n '不惟',\n '昂然',\n '某',\n '全身心',\n '不论',\n '人家',\n '难怪',\n '焉',\n '譬如',\n '藉以',\n '仅仅',\n '既是',\n '迫于',\n '顷刻间',\n '非徒',\n '日见',\n '差不多',\n '敢情',\n '大举',\n '有的',\n '因此',\n '到底',\n '据悉',\n '〉',\n '换言之',\n '结果',\n '嘘',\n '自个儿',\n '几经',\n '哉',\n '上',\n '。',\n '随着',\n '嗳',\n '很多',\n '尽快',\n '何苦',\n '恰巧',\n '虽则',\n '这会儿',\n '默默地',\n '进而',\n '当下',\n '尔后',\n '愤然',\n '乃',\n '加之',\n '同时',\n '姑且',\n '＊',\n '沙沙',\n '反过来说',\n '此',\n '不过',\n '从严',\n '倒是',\n '尽心尽力',\n '不但',\n '极了',\n '砰',\n '连日',\n '至',\n '甚么',\n '以及',\n '梆',\n '不迭',\n '将才',\n '仍',\n 'A',\n '+',\n '等',\n '理当',\n '自身',\n '暗中',\n '怎',\n '连声',\n '非但',\n '嘻',\n '以便',\n '从轻',\n '据我所知',\n '不消',\n '呗',\n '但是',\n '@',\n '比',\n '各个',\n '向着',\n '不知不觉',\n '大都',\n '起头',\n '大致',\n '初',\n '你',\n '吱',\n '另方面',\n '多亏',\n '等等',\n '恰如',\n '个',\n '.',\n '：',\n '其他',\n '弗',\n '吓',\n '%',\n '或多或少',\n '将近',\n '嘛',\n '各式',\n '乃至',\n '纵',\n '大大',\n '切切',\n '后来',\n '不对',\n '归',\n '等到',\n '＃',\n '便',\n '伙同',\n '基本',\n '历',\n '别人',\n '不满',\n '不力',\n '本身',\n '啐',\n '沿',\n '即刻',\n '社会主义',\n '以至',\n '则',\n '本人',\n '‘',\n '偏偏',\n '臭',\n '当口儿',\n '多',\n '理应',\n '尽量',\n '单纯',\n '彼此',\n '不时',\n '何必',\n '这个',\n '岂非',\n '即令',\n '不得不',\n '迟早',\n '年复一年',\n '大体上',\n '亲自',\n '然则',\n '那些',\n ':',\n '二话不说',\n '何时',\n '起',\n '嗡嗡',\n '光是',\n '即或',\n '据实',\n '共总',\n '那',\n '到',\n '哪边',\n '她们',\n '#',\n '不必',\n '故',\n '这时',\n '如何',\n '归根结底',\n '这就是说',\n '％',\n '管',\n '几乎',\n '吗',\n '与其',\n '经常',\n '路经',\n '不了',\n '长期以来',\n '大家',\n '似的',\n '不定',\n '千万',\n '彻夜',\n '并没',\n '纯',\n '大略',\n '反之则',\n '大抵',\n '刚好',\n '哪怕',\n '一',\n '极力',\n '切',\n '单',\n '不特',\n '如上',\n '连',\n '了',\n '陈年',\n '窃',\n '约',\n '$',\n '之类',\n '不仅仅',\n '地',\n '不光',\n '因',\n '越是',\n '从此以后',\n '待到',\n '快要',\n '呃',\n '方才',\n '之一',\n '从古至今',\n '自己',\n '谁',\n '不仅仅是',\n '不要',\n '简而言之',\n '其一',\n '成年累月',\n '见',\n '但愿',\n '岂止',\n '三',\n '｜',\n '时候',\n '=',\n '立地',\n '除了',\n '（',\n '从头',\n '这',\n '，',\n '取道',\n '不常',\n '断然',\n '＞',\n '啊哈',\n '从中',\n '达旦',\n '叮咚',\n '从速',\n '反而',\n '蛮',\n '偶而',\n '您',\n '暗地里',\n '反之',\n '那么',\n '如若',\n '绝顶',\n '不外',\n '屡屡',\n '临到',\n '其后',\n '前者',\n '她',\n '应当',\n '既然',\n '急匆匆',\n '尚且',\n '是',\n '满',\n '乎',\n '上去',\n '啊',\n '不止',\n '把',\n '尽管',\n '若非',\n '快',\n '亲身',\n '简言之',\n '一旦',\n '而言',\n '不会',\n '么',\n '诸位',\n '｝',\n '哩',\n '这边',\n '当场',\n '但',\n '另',\n '当',\n '宁愿',\n '同',\n '一般',\n '大',\n '从宽',\n '几番',\n '赶',\n '只是',\n '具体来说',\n '除',\n '也',\n '必定',\n '依',\n '并无',\n '连连',\n '迄',\n '切勿',\n '分头',\n '不已',\n '加上',\n '隔日',\n '纵令',\n '漫说',\n '哪',\n '［',\n '着',\n '呐',\n '够瞧的',\n '立',\n '粗',\n '嗯',\n '咚',\n '从重',\n '饱',\n '根据',\n '不择手段',\n '别',\n '恰好',\n '千',\n ',',\n '呵',\n '不是',\n '那末',\n '除此而外',\n '当真',\n '截然',\n '刚才',\n '仅',\n '朝',\n '所以',\n '或者',\n '顺着',\n '…',\n '纵然',\n '望',\n '传闻',\n '其它',\n '去',\n '次第',\n '难说',\n '甫',\n '既...又',\n '更为',\n '要不然',\n '-',\n '挨门逐户',\n '得天独厚',\n '例如',\n '沿着',\n '与否',\n '总而言之',\n \"'\",\n '恰逢',\n '反之亦然',\n '而',\n '前后',\n '并且',\n '看样子',\n '鉴于',\n '经',\n '而外',\n '^',\n '按期',\n '每逢',\n '就是说',\n '挨门挨户',\n '决非',\n '接下来',\n '<',\n '借此',\n '从早到晚',\n '就此',\n '而况',\n '举凡',\n '喏',\n '绝对',\n '权时',\n '以至于',\n '近年来',\n '如下',\n '勃然',\n '、',\n '趁热',\n '奈',\n '进来',\n '故意',\n '比照',\n '光',\n '很',\n '老大',\n '那儿',\n '另外',\n '为何',\n '没',\n '看来',\n '日益',\n '从不',\n '三番五次',\n '碰巧',\n '就算',\n '这里',\n '恐怕',\n '动不动',\n '怪不得',\n '咋',\n '来看',\n '上一页',\n '像',\n '保管',\n '全力',\n '而又',\n '＠',\n '古来',\n '及',\n '按理',\n '较',\n '甚至',\n '甚而',\n '动辄',\n '用',\n '皆可',\n '替',\n '比方',\n '况且',\n '略为',\n '忽地',\n '者',\n '[',\n '日臻',\n '与',\n '不起',\n '不亦乐乎',\n '本',\n '哎哟',\n '由此可见',\n '照着',\n '常言说',\n '概',\n '率尔',\n '你们',\n '总的说来',\n '切莫',\n '按照',\n '而后',\n '绝不',\n '然而',\n '如此',\n '哇',\n '有关',\n '嘎登',\n '出来',\n '理该',\n '啊呀',\n '它',\n '趁势',\n '于是乎',\n '交口',\n '腾',\n '不得了',\n '各',\n '固然',\n '哪年',\n '风雨无阻',\n '活',\n '猛然间',\n '极其',\n '来',\n '我们',\n '换句话说',\n '敞开儿',\n '单单',\n '那边',\n '嗬',\n '何乐而不为',\n '多次',\n '过',\n '较为',\n '不胜',\n '从今以后',\n '均',\n '即便',\n '要么',\n '那里',\n '>>',\n '俺',\n '总之',\n '必',\n '默然',\n '大面儿上',\n '亲口',\n '方',\n '不再',\n '惯常',\n '大事',\n '恰恰',\n '不仅',\n '不至于',\n '独',\n '联袂',\n '首先',\n '不独',\n '接连不断',\n '吧',\n '立刻',\n '要不',\n '上来',\n '以致',\n '隔夜',\n '充分',\n '紧接着',\n '四',\n '嘎嘎',\n '局外',\n '就是',\n '宁可',\n '难道',\n '更加',\n '哪个',\n '可见',\n '具体说来',\n '打',\n '’',\n '综上所述',\n '再者',\n '＄',\n '传',\n '那会儿',\n '宁',\n '自从',\n '甭',\n '/',\n '呼哧',\n '我',\n '赶早不赶晚',\n '要不是',\n '呢',\n '比起',\n '放量',\n '除外',\n '八',\n '谨',\n '当儿',\n '呆呆地',\n '恍然',\n '多少',\n '岂但',\n '不怎么',\n '差一点',\n '格外',\n '多年前',\n '这样',\n '别的',\n '不比',\n '啊哟',\n '...',\n '更进一步',\n '〈',\n '才',\n '和',\n '趁便',\n '独自',\n '该当',\n '论说',\n '要是',\n '何尝',\n '即若',\n '日渐',\n '还是',\n '哪些',\n '。。。',\n '否则',\n '当然',\n '·',\n '立马',\n '背地里',\n '从此',\n '请勿',\n '不妨',\n '起先',\n '假如',\n '抑或',\n '忽然',\n '刚巧',\n '很少',\n '再说',\n '乘势',\n '多多益善',\n '会',\n '起来',\n '之',\n '拦腰',\n '不仅...而且',\n '有',\n '存心',\n '反手',\n '连袂',\n ';',\n '不料',\n '固',\n '基本上',\n '刚',\n '这儿',\n '何',\n '他们',\n '从来',\n '才能',\n '倒不如说',\n '没有',\n '靠',\n '冲',\n '并',\n '故而',\n '何须',\n '不曾',\n '每当',\n '为什么',\n '共',\n '全年',\n '被',\n '即',\n '任凭',\n '从优',\n '趁早',\n '经过',\n '尽管如此',\n '其余',\n '全然',\n '必须',\n '可',\n '不能',\n '比如说',\n '继而',\n '据此',\n '另行',\n '这么些',\n '?',\n '非得',\n '每时每刻',\n '......',\n '\"',\n '纵使',\n '绝',\n '或',\n '及至',\n '恰恰相反',\n '逢',\n '起初',\n '当即',\n '从新',\n '互相',\n '具体地说',\n '呼啦',\n '照',\n '极',\n '当庭',\n '多多少少',\n '仍旧',\n '临',\n '趁',\n '不能不',\n '就',\n '哪样',\n '的确',\n '将要',\n '唉',\n '那个',\n '不限',\n '上下',\n '一来',\n '_',\n '赶快',\n '累年',\n '！',\n '尽心竭力',\n '莫',\n '如上所述',\n '极端',\n '五',\n '不由得',\n '大不了',\n '尽如人意',\n '如常',\n '较比',\n '几时',\n '哈哈',\n '抽冷子',\n '基于',\n '谁知',\n '论',\n '打开天窗说亮话',\n '边',\n '这些',\n '由',\n '不可抗拒',\n '顷',\n '三天两头',\n '喔唷',\n '难得',\n '哗啦',\n '处处',\n '此次',\n '趁机',\n '竟然',\n '比如',\n '乌乎',\n '届时',\n '是的',\n '任何',\n '不止一次',\n '方能',\n '敢',\n '切不可',\n '不巧',\n '顷刻之间',\n '当中',\n '内',\n '即将',\n '长线',\n '何处',\n '）',\n '瑟瑟',\n '无宁',\n '何况',\n '莫不',\n '恰似',\n '从小',\n '半',\n '略',\n '穷年累月',\n '此中',\n '从而',\n '如次',\n '假若',\n '充其量',\n '哎',\n '此间',\n '然',\n '趁着',\n '该',\n '尽早',\n '向',\n '咱们',\n '每每',\n '也罢',\n '万一',\n '本着',\n '自家',\n '加以',\n '决不',\n '接着',\n '作为',\n '对于',\n '吧哒',\n '哎呀',\n '暗自',\n '从无到有',\n '连日来',\n '继之',\n '可以',\n '奇',\n '何止',\n '嘿',\n '尽',\n '他人',\n '各自',\n '怎样',\n '￥',\n '归根到底',\n '来着',\n '不少',\n '对',\n '不问',\n '不下',\n '不只',\n '豁然',\n '六',\n '过于',\n '齐',\n '一则',\n '让',\n '只有',\n '简直',\n '不管',\n '其中',\n '传说',\n '老是',\n '九',\n '轰然',\n '公然',\n '另一方面',\n '~',\n '罢了',\n '从未',\n '其实',\n '呸',\n '拿',\n '＜',\n '多多',\n '他',\n '果然',\n '略加',\n '扑通',\n '阿',\n '仍然',\n '末##末',\n '第',\n '怕',\n '近几年来',\n '八成',\n '并非',\n '常言说得好',\n '毫无例外',\n '设使',\n '汝',\n '日复一日',\n '啥',\n '那么些',\n '到处',\n '莫非',\n '所',\n '何妨',\n '这么样',\n '诚然',\n '给',\n '它们',\n '倒不如',\n '白',\n '或是',\n '宁肯',\n ')',\n '若是',\n '另一个',\n '川流不息',\n '可是',\n '不经意',\n '不日',\n '哈',\n '必将',\n '啪达',\n '？',\n '着呢',\n '反过来',\n '老老实实',\n '莫如',\n '要',\n '总的来看',\n '并肩',\n '得',\n '而已',\n '通过',\n '喀',\n '看起来',\n '反倒',\n '果真',\n '依照',\n '而且',\n '--',\n '乘机',\n '从古到今',\n '到了儿',\n '咦',\n '都',\n '毫不',\n '毫无保留地',\n '全都',\n '那么样',\n '毫无',\n '分期分批',\n '居然',\n '鄙人',\n '这么',\n '|',\n '如此等等',\n '；',\n '于',\n '极为',\n '至于',\n '某些',\n '顷刻',\n '成年',\n '为了',\n '不',\n '乒',\n '尔等',\n '来讲',\n '莫若',\n '更',\n '然后',\n '每',\n '分期',\n '三番两次',\n '︿',\n '带',\n '设若',\n '乘胜',\n '还',\n '彼',\n '那时',\n '并排',\n '哟',\n '率然',\n '借以',\n '》',\n '倍感',\n '离',\n '究竟',\n '也好',\n ...}"
     },
     "execution_count": 26,
     "metadata": {},
     "output_type": "execute_result"
    }
   ],
   "source": [
    "STOPWORDS"
   ],
   "metadata": {
    "collapsed": false
   }
  },
  {
   "cell_type": "code",
   "execution_count": null,
   "outputs": [],
   "source": [],
   "metadata": {
    "collapsed": false
   }
  },
  {
   "cell_type": "markdown",
   "source": [
    "我们会用空格来替换一些符号,空格可以用来分隔单词,我们还要删除一些特殊符号(如一些不可见符号,回车，换行符之类的)，此处要注意一点,我们匹配的是除了“0-9a-z”和“#+_”之外的所有符号,那也就是说“0-9a-z”和“#+_”会被保留下来,为什么要保留“#+_”这些符号呢，大家可以思考一下。然后我们还要删除停用词。接下来我们开始清洗数据:\n",
    "\n"
   ],
   "metadata": {
    "collapsed": false
   }
  },
  {
   "cell_type": "code",
   "execution_count": 27,
   "outputs": [
    {
     "data": {
      "text/plain": "0         [昌, 县, 人, 民, 检, 察, 院, 指, 控, 2, 0, 1, 4, 年, 4, ...\n1         [公, 诉, 机, 关, 指, 控, 2, 0, 1, 5, 年, 1, 1, 月, 1, ...\n2         [贵, 州, 省, 平, 坝, 县, 人, 民, 检, 察, 院, 指, 控, 2, 0, ...\n3         [审, 理, 查, 明, 2, 0, 1, 4, 年, 5, 月, 6, 日, 1, 4, ...\n4         [安, 阳, 县, 人, 民, 检, 察, 院, 指, 控, 2, 0, 1, 4, 年, ...\n                                ...                        \n154587    [审, 理, 查, 明, 2, 0, 1, 3, 年, 9, 月, 告, 人, 黄, 陌, ...\n154588    [歙, 县, 人, 民, 检, 察, 院, 指, 控, 告, 人, 叶, 违, 反, 狩, ...\n154589    [永, 平, 县, 人, 民, 检, 察, 院, 指, 控, 2, 0, 1, 7, 年, ...\n154590    [神, 农, 架, 林, 区, 人, 民, 检, 察, 院, 指, 控, 2, 0, 1, ...\n154591    [审, 理, 查, 明, 2, 0, 1, 4, 年, 8, 月, 2, 5, 日, 晚, ...\nName: text, Length: 154592, dtype: object"
     },
     "execution_count": 27,
     "metadata": {},
     "output_type": "execute_result"
    }
   ],
   "source": [
    "df[\"text\"].apply(remove_stopword)"
   ],
   "metadata": {
    "collapsed": false
   }
  },
  {
   "cell_type": "code",
   "execution_count": 31,
   "outputs": [
    {
     "data": {
      "text/plain": "                                                     text  \\\n0       昌宁县人民检察院指控，2014年4月19日下午16时许，被告人段某驾拖车经过鸡飞乡澡塘街子，...   \n1       公诉机关指控,2015年11月10日晚9时许，被告人李某的妹妹李某某与被害人华某某在桦川县悦...   \n2       贵州省平坝县人民检察院指控：2014年4月9日下午，被告人王某丁与其堂哥王4某（另案处理）假...   \n3       经审理查明：2014年5月6日14时许，被告人叶某某驾车途径赤壁市赵李桥镇胜利街涵洞时，被在...   \n4       安阳县人民检察院指控：2014年4月27日上午11时许，宋某甲在安阳县吕村镇翟奇务村被告人梁...   \n...                                                   ...   \n154587  经审理查明，2013年9月，被告人黄某从一陌生人处购得猎捕工具“电猫”一台，随即于每年的农历...   \n154588  歙县人民检察院指控：被告人叶某违反狩猎法规，在禁猎期内使用禁用的方法，猎捕安徽省二级保护的野...   \n154589  永平县人民检察院指控：2017年4月10日，被告人江天某携带单管猎枪、录音机等工具到永平县杉...   \n154590  神农架林区人民检察院指控：2015年11月中旬至12月，被告人朱某在神农架林区红坪镇红举村“...   \n154591  经审理查明：2014年8月25日晚19时至次日凌晨3时许，被告人黄某甲到江苏省沭阳县扎下镇明...   \n\n                                           label  \n0                                         [故意伤害]  \n1                                         [故意伤害]  \n2                                         [故意伤害]  \n3                                         [故意伤害]  \n4                                         [故意伤害]  \n...                                          ...  \n154587                                    [非法狩猎]  \n154588                                    [非法狩猎]  \n154589  [非法[持有、私藏][枪支、弹药], 非法[猎捕、杀害][珍贵、濒危]野生动物]  \n154590                    [非法[猎捕、杀害][珍贵、濒危]野生动物]  \n154591                                    [非法狩猎]  \n\n[154592 rows x 2 columns]",
      "text/html": "<div>\n<style scoped>\n    .dataframe tbody tr th:only-of-type {\n        vertical-align: middle;\n    }\n\n    .dataframe tbody tr th {\n        vertical-align: top;\n    }\n\n    .dataframe thead th {\n        text-align: right;\n    }\n</style>\n<table border=\"1\" class=\"dataframe\">\n  <thead>\n    <tr style=\"text-align: right;\">\n      <th></th>\n      <th>text</th>\n      <th>label</th>\n    </tr>\n  </thead>\n  <tbody>\n    <tr>\n      <th>0</th>\n      <td>昌宁县人民检察院指控，2014年4月19日下午16时许，被告人段某驾拖车经过鸡飞乡澡塘街子，...</td>\n      <td>[故意伤害]</td>\n    </tr>\n    <tr>\n      <th>1</th>\n      <td>公诉机关指控,2015年11月10日晚9时许，被告人李某的妹妹李某某与被害人华某某在桦川县悦...</td>\n      <td>[故意伤害]</td>\n    </tr>\n    <tr>\n      <th>2</th>\n      <td>贵州省平坝县人民检察院指控：2014年4月9日下午，被告人王某丁与其堂哥王4某（另案处理）假...</td>\n      <td>[故意伤害]</td>\n    </tr>\n    <tr>\n      <th>3</th>\n      <td>经审理查明：2014年5月6日14时许，被告人叶某某驾车途径赤壁市赵李桥镇胜利街涵洞时，被在...</td>\n      <td>[故意伤害]</td>\n    </tr>\n    <tr>\n      <th>4</th>\n      <td>安阳县人民检察院指控：2014年4月27日上午11时许，宋某甲在安阳县吕村镇翟奇务村被告人梁...</td>\n      <td>[故意伤害]</td>\n    </tr>\n    <tr>\n      <th>...</th>\n      <td>...</td>\n      <td>...</td>\n    </tr>\n    <tr>\n      <th>154587</th>\n      <td>经审理查明，2013年9月，被告人黄某从一陌生人处购得猎捕工具“电猫”一台，随即于每年的农历...</td>\n      <td>[非法狩猎]</td>\n    </tr>\n    <tr>\n      <th>154588</th>\n      <td>歙县人民检察院指控：被告人叶某违反狩猎法规，在禁猎期内使用禁用的方法，猎捕安徽省二级保护的野...</td>\n      <td>[非法狩猎]</td>\n    </tr>\n    <tr>\n      <th>154589</th>\n      <td>永平县人民检察院指控：2017年4月10日，被告人江天某携带单管猎枪、录音机等工具到永平县杉...</td>\n      <td>[非法[持有、私藏][枪支、弹药], 非法[猎捕、杀害][珍贵、濒危]野生动物]</td>\n    </tr>\n    <tr>\n      <th>154590</th>\n      <td>神农架林区人民检察院指控：2015年11月中旬至12月，被告人朱某在神农架林区红坪镇红举村“...</td>\n      <td>[非法[猎捕、杀害][珍贵、濒危]野生动物]</td>\n    </tr>\n    <tr>\n      <th>154591</th>\n      <td>经审理查明：2014年8月25日晚19时至次日凌晨3时许，被告人黄某甲到江苏省沭阳县扎下镇明...</td>\n      <td>[非法狩猎]</td>\n    </tr>\n  </tbody>\n</table>\n<p>154592 rows × 2 columns</p>\n</div>"
     },
     "execution_count": 31,
     "metadata": {},
     "output_type": "execute_result"
    }
   ],
   "source": [
    "df"
   ],
   "metadata": {
    "collapsed": false
   }
  },
  {
   "cell_type": "code",
   "execution_count": 32,
   "outputs": [],
   "source": [],
   "metadata": {
    "collapsed": false
   }
  },
  {
   "cell_type": "code",
   "execution_count": null,
   "outputs": [],
   "source": [
    "X_train = [remove_stopword(x) for x in x_train]\n",
    "x_test = [remove_stopword(x) for x in x_test]\n",
    "X_train[:10]"
   ],
   "metadata": {
    "collapsed": false,
    "pycharm": {
     "is_executing": true
    }
   }
  },
  {
   "cell_type": "code",
   "execution_count": 11,
   "outputs": [],
   "source": [],
   "metadata": {
    "collapsed": false
   }
  },
  {
   "cell_type": "markdown",
   "source": [
    "# 特征抽取\n",
    "我们的文本数据不能直接喂给分类器,因为分类器\"消化\"不了文本数据,所以必须对文本数据进行量化处理,量化处理文本数据有两种方式,一种是计算单词词频的方式,我们使用sklearn的CountVectorizer方法来统计文本中所有单词在文本中出现的次数即词频。第二种方式是计算TF-IDF,即计算每个词的逆向词频的权重,换句话说TF-IDF值表示的是每个单词在文本中的重要程度，我们使用sklearn的TfidfVectorizer方法来计算每个单词的TF-IDF值。这两种方法都是对文本量化处理的基本方法，只有经过这两种方法量化处理过的文本才能被\"喂\"给分类器模型进行学习和训练。不过我们只要任选其中的一种方法就可以实现对模型的训练和预测。为了让大家能够了解这两种方法，我们把这两种方法都介绍一下。\n",
    "\n",
    "CountVectorizer\n",
    "计算文本中每个单词的词频(wordcount),并生成基于词频的稀疏矩阵，其中参数:\n",
    "\n",
    "min_df : 过滤掉那些词频小于指定阈值的单词,如min_df=5表示过滤掉词频小于5次的单词(绝对值)\n",
    "\n",
    "max_df : 过滤掉那些词频大于指定阈值的单词,如max_df=0.9表示过滤掉词频大于那些在90%以上文档中都出现的单词(相对值)\n",
    "\n",
    "token_pattern :  CountVectorizer在分隔单词的一种取舍模式。\n",
    "\n",
    "min_df和max_df的值如果是整数则表示绝对值,表示次数，如果是浮点型则表示相对值,表示相对与所有文档的百分比。之所以要设置这两个参数,是因为通过设定min_df 可以过滤掉一些由于笔误造成的错误单词。通过设定max_df可以过滤掉一些词频教高的常用词,这些词频较高的常用词,它们的TF-IDF值会很低,即意味着它们对文本来说是无关紧要的,如一些感叹词，语助词什么的，如果不过滤这些词，则因为特征(feature)的数量太多。从而增加计算的复杂度,和系统开销。\n",
    "\n",
    "token_pattern参数是一个正则表达式,它告诉CountVectorizer在分词的时候按照给定的正则表达式来分词。token_pattern= '(\\S+)'表示匹配任意多个符号,如“c++”、\"c#\"会被匹配到，如果不设置token_pattern参数那么文本中的“c++”、\"c#\"都会被匹配成\"c\",这会给我们的预测带来很大的误差。\n"
   ],
   "metadata": {
    "collapsed": false
   }
  },
  {
   "cell_type": "code",
   "execution_count": 30,
   "outputs": [],
   "source": [
    "from sklearn.metrics import accuracy_score\n",
    "from sklearn.metrics import f1_score\n",
    "from sklearn.metrics import roc_auc_score\n",
    "from sklearn.metrics import average_precision_score\n",
    "from sklearn.metrics import recall_score\n",
    "\n",
    "def print_evaluation_scores(y_val, predicted):\n",
    "    accuracy=accuracy_score(y_val, predicted)\n",
    "    f1_score_macro=f1_score(y_val, predicted, average='macro')\n",
    "    f1_score_micro=f1_score(y_val, predicted, average='micro')\n",
    "    f1_score_weighted=f1_score(y_val, predicted, average='weighted')\n",
    "    print(\"accuracy:\",accuracy)\n",
    "    print(\"f1_score_macro:\",f1_score_macro)\n",
    "    print(\"f1_score_micro:\",f1_score_micro)\n",
    "    print(\"f1_score_weighted:\",f1_score_weighted)"
   ],
   "metadata": {
    "collapsed": false
   }
  },
  {
   "cell_type": "code",
   "execution_count": null,
   "outputs": [],
   "source": [
    "#朴素贝叶斯模型\n",
    "NB_pipeline = Pipeline([\n",
    "                ('tfidf', TfidfVectorizer(min_df=5,max_df=0.9,ngram_range=(1,2),token_pattern= '(\\S+)')),\n",
    "                ('clf', OneVsRestClassifier(MultinomialNB())),\n",
    "            ])\n",
    "\n",
    "NB_pipeline.fit(X_train,y_train)\n",
    "predicted = NB_pipeline.predict(x_test)\n",
    "print_evaluation_scores(y_val,predicted)"
   ],
   "metadata": {
    "collapsed": false
   }
  },
  {
   "cell_type": "code",
   "execution_count": null,
   "outputs": [],
   "source": [],
   "metadata": {
    "collapsed": false
   }
  }
 ],
 "metadata": {
  "kernelspec": {
   "display_name": "Python 3",
   "language": "python",
   "name": "python3"
  },
  "language_info": {
   "codemirror_mode": {
    "name": "ipython",
    "version": 2
   },
   "file_extension": ".py",
   "mimetype": "text/x-python",
   "name": "python",
   "nbconvert_exporter": "python",
   "pygments_lexer": "ipython2",
   "version": "2.7.6"
  }
 },
 "nbformat": 4,
 "nbformat_minor": 0
}
